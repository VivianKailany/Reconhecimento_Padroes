{
 "cells": [
  {
   "cell_type": "code",
   "execution_count": 11,
   "metadata": {},
   "outputs": [],
   "source": [
    "import numpy as np\n",
    "import pandas as pd \n",
    "from sklearn.model_selection import train_test_split\n",
    "from NaiveBayesGaussiano import NaiveBayesGaussiano\n",
    "from metricas import matriz_confusao\n",
    "from validacaocruzada import validacao_cruzada, calcular_estatisticas_metricas\n",
    "from sklearn.preprocessing import MinMaxScaler\n",
    "from KNN import KNN\n"
   ]
  },
  {
   "cell_type": "code",
   "execution_count": 2,
   "metadata": {},
   "outputs": [],
   "source": [
    "\n",
    "data = pd.read_csv(\"breast.csv\")\n",
    "\n",
    "\n",
    "X = data.iloc[:, :-1].values\n",
    "# Convertendo os nomes das espécies em valores numéricos\n",
    "y = data.iloc[:, -1].values.reshape(-1,1)\n"
   ]
  },
  {
   "cell_type": "code",
   "execution_count": 3,
   "metadata": {},
   "outputs": [],
   "source": [
    "X_treino, X_teste, y_treino, y_teste = train_test_split(X, y, test_size=0.2, random_state=42)\n"
   ]
  },
  {
   "cell_type": "code",
   "execution_count": 4,
   "metadata": {},
   "outputs": [],
   "source": [
    "# Normalizar os dados de treinamento\n",
    "escala = MinMaxScaler()\n",
    "X_normalizado_treino = escala.fit_transform(X_treino)\n",
    "\n",
    "# Normalizar os dados de teste\n",
    "X_normalizado_teste = escala.transform(X_teste)"
   ]
  },
  {
   "cell_type": "code",
   "execution_count": 18,
   "metadata": {},
   "outputs": [],
   "source": [
    "\n",
    "\n",
    "modelo = NaiveBayesGaussiano()\n",
    "modelo.fit(X_normalizado_treino, y_treino.ravel())\n",
    "predictions = modelo.predict(X_normalizado_teste)\n",
    "\n",
    "\n"
   ]
  },
  {
   "cell_type": "code",
   "execution_count": 19,
   "metadata": {},
   "outputs": [
    {
     "name": "stdout",
     "output_type": "stream",
     "text": [
      "Acurácia média: 0.9022222222222223\n",
      "Desvio padrão das acurácias: 0.03325917677132393\n",
      "Precisão média: 0.9952380952380953\n",
      "Desvio padrão das precisões: 0.014285714285714301\n",
      "Revocação média: 0.8479989958543908\n",
      "Desvio padrão das revocações: 0.05123002430033393\n",
      "F1 médio: 0.9150586253176651\n",
      "Desvio padrão do F1: 0.033518761172390985\n"
     ]
    }
   ],
   "source": [
    "\n",
    "acuracias, precisoes, revocacoes, f1_scores = validacao_cruzada(modelo, X_normalizado_treino, y_treino.ravel())\n",
    "\n",
    "acuracia_media, acuracia_desvio_padrao = calcular_estatisticas_metricas(acuracias)\n",
    "print(\"Acurácia média:\", acuracia_media)\n",
    "print(\"Desvio padrão das acurácias:\", acuracia_desvio_padrao)\n",
    "\n",
    "precisao_media, precisao_desvio_padrao = calcular_estatisticas_metricas(precisoes)\n",
    "print(\"Precisão média:\", precisao_media)\n",
    "print(\"Desvio padrão das precisões:\", precisao_desvio_padrao)\n",
    "\n",
    "revocacao_media, revocacao_desvio_padrao = calcular_estatisticas_metricas(revocacoes)\n",
    "print(\"Revocação média:\", revocacao_media)\n",
    "print(\"Desvio padrão das revocações:\", revocacao_desvio_padrao)\n",
    "\n",
    "f1_media, f1_desvio_padrao = calcular_estatisticas_metricas(f1_scores)\n",
    "print(\"F1 médio:\", f1_media)\n",
    "print(\"Desvio padrão do F1:\", f1_desvio_padrao)\n"
   ]
  },
  {
   "cell_type": "code",
   "execution_count": 20,
   "metadata": {},
   "outputs": [
    {
     "name": "stdout",
     "output_type": "stream",
     "text": [
      "Matriz de Confusão:\n",
      "[45, 1]\n",
      "[13, 55]\n"
     ]
    }
   ],
   "source": [
    "matriz_confusao1= matriz_confusao(y_teste, predictions, 2)\n",
    "print(\"Matriz de Confusão:\")\n",
    "for row in matriz_confusao1:\n",
    "    print(row)"
   ]
  },
  {
   "cell_type": "code",
   "execution_count": 21,
   "metadata": {},
   "outputs": [],
   "source": [
    "modelo2 = KNN()\n",
    "modelo2.fit(X_normalizado_treino, y_treino.ravel())\n",
    "previsao = modelo2.predict(X_normalizado_teste)\n"
   ]
  },
  {
   "cell_type": "code",
   "execution_count": 22,
   "metadata": {},
   "outputs": [
    {
     "name": "stdout",
     "output_type": "stream",
     "text": [
      "Acurácia média: 0.968888888888889\n",
      "Desvio padrão das acurácias: 0.028458329944145988\n",
      "Precisão média: 0.9727811913295785\n",
      "Desvio padrão das precisões: 0.030936999030051537\n",
      "Revocação média: 0.9778181495923433\n",
      "Desvio padrão das revocações: 0.045895955277765105\n",
      "F1 médio: 0.974274466865784\n",
      "Desvio padrão do F1: 0.02582558979804448\n"
     ]
    }
   ],
   "source": [
    "\n",
    "acuracias, precisoes, revocacoes, f1_scores = validacao_cruzada(modelo2, X_normalizado_treino, y_treino.ravel())\n",
    "\n",
    "acuracia_media, acuracia_desvio_padrao = calcular_estatisticas_metricas(acuracias)\n",
    "print(\"Acurácia média:\", acuracia_media)\n",
    "print(\"Desvio padrão das acurácias:\", acuracia_desvio_padrao)\n",
    "\n",
    "precisao_media, precisao_desvio_padrao = calcular_estatisticas_metricas(precisoes)\n",
    "print(\"Precisão média:\", precisao_media)\n",
    "print(\"Desvio padrão das precisões:\", precisao_desvio_padrao)\n",
    "\n",
    "revocacao_media, revocacao_desvio_padrao = calcular_estatisticas_metricas(revocacoes)\n",
    "print(\"Revocação média:\", revocacao_media)\n",
    "print(\"Desvio padrão das revocações:\", revocacao_desvio_padrao)\n",
    "\n",
    "f1_media, f1_desvio_padrao = calcular_estatisticas_metricas(f1_scores)\n",
    "print(\"F1 médio:\", f1_media)\n",
    "print(\"Desvio padrão do F1:\", f1_desvio_padrao)\n"
   ]
  },
  {
   "cell_type": "code",
   "execution_count": 23,
   "metadata": {},
   "outputs": [
    {
     "name": "stdout",
     "output_type": "stream",
     "text": [
      "Matriz de Confusão:\n",
      "[42, 4]\n",
      "[0, 68]\n"
     ]
    }
   ],
   "source": [
    "matriz_confusao2 = matriz_confusao(y_teste, previsao, 2)\n",
    "print(\"Matriz de Confusão:\")\n",
    "for i in matriz_confusao2:\n",
    "    print(i)\n",
    "\n",
    "\n"
   ]
  },
  {
   "cell_type": "code",
   "execution_count": null,
   "metadata": {},
   "outputs": [],
   "source": []
  }
 ],
 "metadata": {
  "kernelspec": {
   "display_name": "Python 3",
   "language": "python",
   "name": "python3"
  },
  "language_info": {
   "codemirror_mode": {
    "name": "ipython",
    "version": 3
   },
   "file_extension": ".py",
   "mimetype": "text/x-python",
   "name": "python",
   "nbconvert_exporter": "python",
   "pygments_lexer": "ipython3",
   "version": "3.10.4"
  }
 },
 "nbformat": 4,
 "nbformat_minor": 2
}
